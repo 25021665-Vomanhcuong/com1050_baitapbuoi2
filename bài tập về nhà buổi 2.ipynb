{
  "nbformat": 4,
  "nbformat_minor": 0,
  "metadata": {
    "colab": {
      "provenance": []
    },
    "kernelspec": {
      "name": "python3",
      "display_name": "Python 3"
    },
    "language_info": {
      "name": "python"
    }
  },
  "cells": [
    {
      "cell_type": "code",
      "execution_count": null,
      "metadata": {
        "id": "w8p_hWMO6BPI"
      },
      "outputs": [],
      "source": [
        "# bai 1\n",
        "n=int(input(\"nhap mot so nguyen: \"))\n",
        "print(n*2)\n"
      ]
    },
    {
      "cell_type": "code",
      "source": [
        "# bai 2\n",
        "a=float(input(\"chieu rong hinh chu nhat: \"))\n",
        "b=float(input(\"chieu dai hinh chu nhat: \"))\n",
        "Shcn=a*b\n",
        "Sht=((a/2)**2)*3.143\n",
        "print(\"dien tich trong cay la: \",Shcn-Sht)"
      ],
      "metadata": {
        "id": "oXsz45wx6l2I"
      },
      "execution_count": null,
      "outputs": []
    },
    {
      "cell_type": "code",
      "source": [
        "# bai 3\n",
        "c = input(\"Nhap vao mot ky tu: \")\n",
        "if 'A' <= c <= 'Z':\n",
        "    print(\"Ky tu sau khi doi:\", c.lower())\n",
        "elif 'a' <= c <= 'z':\n",
        "    print(\"Ky tu sau khi doi:\", c.upper())\n",
        "else:\n",
        "    print(\"Ky tu khong phai la chu cai.\")"
      ],
      "metadata": {
        "id": "jUJ6xp9b6weC"
      },
      "execution_count": null,
      "outputs": []
    },
    {
      "cell_type": "code",
      "source": [
        "# bai 4\n",
        "c = input(\"Nhap vao mot ky tu: \")\n",
        "if 'A' <= c <= 'Z' or 'a' <= c <= 'z':\n",
        "    print({c}, \"la ky tu anphabet\")\n",
        "else:\n",
        "    print({c}, \"khong la ky tu anphabet\")"
      ],
      "metadata": {
        "id": "gevSRCkX61rc"
      },
      "execution_count": null,
      "outputs": []
    },
    {
      "cell_type": "markdown",
      "source": [],
      "metadata": {
        "id": "hasZflWy-1Cq"
      }
    },
    {
      "cell_type": "code",
      "source": [
        "# bai 5\n",
        "c = input(\"Nhap vao mot chu cai hoa: \")\n",
        "if 'A' <= c <= 'Z':\n",
        "    if c == 'A':\n",
        "        print(\"Truong hop dac biet: khong co chu cai thuong dung truoc 'a'\")\n",
        "    else:\n",
        "        chu_thuong = chr(ord(c) + 32)\n",
        "        chu_lien_truoc = chr(ord(chu_thuong) - 1)\n",
        "        print(\"Ket qua:\", chu_lien_truoc)\n",
        "else:\n",
        "    print(\"Ky tu khong phai la chu cai hoa.\")"
      ],
      "metadata": {
        "id": "fNG12zsZ6-Ew"
      },
      "execution_count": null,
      "outputs": []
    },
    {
      "cell_type": "code",
      "source": [
        "# bai 6\n",
        "import math\n",
        "a=float(input(\"canh thu nhat cua tam giac : \"))\n",
        "b=float(input(\"canh thu hai cua tam giac : \"))\n",
        "c=float(input(\"canh thu ba cua tam giac : \"))\n",
        "if a+b>c and a+c>b and b+c>a:\n",
        "    p=(a+b+c)/2\n",
        "    S=math.sqrt(p*(p-a)*(p-b)*(p-c))\n",
        "    print(S,\"la dien tich tam giac\")\n",
        "else:\n",
        "    print(\"Khong phai 3 canh cua tam giac\")"
      ],
      "metadata": {
        "id": "h1SQti8N7DBV"
      },
      "execution_count": null,
      "outputs": []
    },
    {
      "cell_type": "code",
      "source": [
        "# bai 7\n",
        "a=input(\"nhap vao mot chuoi ky tu thuong >= 20: \")\n",
        "if len(a) >= 20 and a.islower():\n",
        "    print(a[4] ,a[8] )\n",
        "else:\n",
        "    print(\"Co loi!,vui long nhap lai chuoi ky tu \")"
      ],
      "metadata": {
        "id": "5t8zXct57I7H"
      },
      "execution_count": null,
      "outputs": []
    },
    {
      "cell_type": "code",
      "source": [
        "# bai 8\n",
        "ho_ten = input(\"nhap ho ten chu ho: \")\n",
        "chi_so_cu = int(input(\"nhap so chi dien ke thang truoc: \"))\n",
        "chi_so_moi = int(input(\"nhap so chi dien ke thang nay: \"))\n",
        "so_kwh = chi_so_moi - chi_so_cu\n",
        "tien = 0\n",
        "so_con_lai = so_kwh\n",
        "if so_con_lai > 0:\n",
        "    kwh = min(so_con_lai, 50)\n",
        "    tien += kwh * 1984\n",
        "    so_con_lai -= kwh\n",
        "if so_con_lai > 0:\n",
        "    kwh = min(so_con_lai, 50)\n",
        "    tien += kwh * 2050\n",
        "    so_con_lai -= kwh\n",
        "if so_con_lai > 0:\n",
        "    kwh = min(so_con_lai, 100)\n",
        "    tien += kwh * 2380\n",
        "    so_con_lai -= kwh\n",
        "if so_con_lai > 0:\n",
        "    kwh = min(so_con_lai, 100)\n",
        "    tien += kwh * 2998\n",
        "    so_con_lai -= kwh\n",
        "if so_con_lai > 0:\n",
        "    kwh = min(so_con_lai, 100)\n",
        "    tien += kwh * 3350\n",
        "    so_con_lai -= kwh\n",
        "if so_con_lai > 0:\n",
        "    tien += so_con_lai * 3460\n",
        "tien_vat = round(tien * 1.08)\n",
        "print(\"\\n--- HOA DON TIEN DIEN ---\")\n",
        "print(\"chu ho:\", ho_ten)\n",
        "print(\"so kwh tieu thu:\", so_kwh)\n",
        "print(\"tien dien (da gom VAT 8%):\", tien_vat, \"đong\")"
      ],
      "metadata": {
        "id": "HQdhYdmh7PA9"
      },
      "execution_count": null,
      "outputs": []
    }
  ]
}