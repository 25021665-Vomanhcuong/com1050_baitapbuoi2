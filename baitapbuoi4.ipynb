{
  "nbformat": 4,
  "nbformat_minor": 0,
  "metadata": {
    "colab": {
      "provenance": []
    },
    "kernelspec": {
      "name": "python3",
      "display_name": "Python 3"
    },
    "language_info": {
      "name": "python"
    }
  },
  "cells": [
    {
      "cell_type": "code",
      "execution_count": null,
      "metadata": {
        "id": "Kb0-pzkOl2ph"
      },
      "outputs": [],
      "source": [
        "# bai 1\n",
        "n=int(input(\"nhap 1 so nguyen <==1000:\"))\n",
        "sum=0\n",
        "for i in range(n+1):\n",
        "    sum=sum+i\n",
        "print(sum)"
      ]
    },
    {
      "cell_type": "code",
      "source": [
        "# bai 2\n",
        "import math\n",
        "\n",
        "def Primenumber(n):\n",
        "    if n==1:\n",
        "        print(n,\"khong la so nguyen to\")\n",
        "    else:\n",
        "        if math.sqrt(n)%2==0:\n",
        "            print(n,\"khong la so nguyen to\")\n",
        "        else:\n",
        "            print(n,\"la so nguyen to\")\n",
        "    return\n",
        "\n",
        "n=int(input(\"nhap vao 1 so nguyen duong: \"))\n",
        "if n<=0:\n",
        "    print(n,\"khong la so nguyen duong\")\n",
        "else:\n",
        "    Primenumber(n)"
      ],
      "metadata": {
        "id": "5wvXr4Bll3Qs"
      },
      "execution_count": null,
      "outputs": []
    },
    {
      "cell_type": "code",
      "source": [
        "# bai 3\n",
        "n=int(input(\"nhap vao 1 so nguyen dương<100 : \"))\n",
        "factorial_number=1\n",
        "if n < 0 or n > 100:\n",
        "    print(n,\"khong thoa man yeu cau de bai\")\n",
        "else:\n",
        "    for i in range(1,n+1):\n",
        "        factorial_number=factorial_number*i\n",
        "    print(factorial_number)"
      ],
      "metadata": {
        "id": "nj1ALC3xl3Tu"
      },
      "execution_count": null,
      "outputs": []
    },
    {
      "cell_type": "code",
      "source": [
        "# bai 4\n",
        "n=int(input(\"nhap vao 1 so nguyen: \"))\n",
        "n=abs(n)\n",
        "if n==0:\n",
        "   so_chu_so=1\n",
        "else:\n",
        "    so_chu_so=0\n",
        "    while n>0:\n",
        "        n //= 10\n",
        "        so_chu_so +=1\n",
        "\n",
        "print(\"So chu so la: \",so_chu_so)"
      ],
      "metadata": {
        "id": "Uh5fxv-Jl3YX"
      },
      "execution_count": null,
      "outputs": []
    },
    {
      "cell_type": "code",
      "source": [
        "# bai 5\n",
        "n=map(int,input(\"nhap vao day so: \").split())\n",
        "x=int(input(\"nhap so can tim: \"))\n",
        "if x in n:\n",
        "    print(\"I′ve found the meaning of life!\")\n",
        "else:\n",
        "    print(\"It′s a joke!\")"
      ],
      "metadata": {
        "id": "4rspwjOHl3bV"
      },
      "execution_count": null,
      "outputs": []
    },
    {
      "cell_type": "code",
      "source": [
        "# bai 6\n",
        "import math\n",
        "\n",
        "def Primenumber(n):\n",
        "    if n==1:\n",
        "        return False\n",
        "    else:\n",
        "        if math.sqrt(n)%2==0:\n",
        "            return False\n",
        "        else:\n",
        "            return True\n",
        "\n",
        "\n",
        "a,b=map(int,input(\"nhap vao 2 so a<=b: \").split())\n",
        "if a>b and (a and b <0):\n",
        "    print(\"vui long nhap lai dung yeu cau\")\n",
        "else:\n",
        "    s=0\n",
        "    for i in range(a,b+1):\n",
        "       if Primenumber(i):\n",
        "        s=s+i\n",
        "    print(s)\n"
      ],
      "metadata": {
        "id": "9skGdk0ql3dv"
      },
      "execution_count": null,
      "outputs": []
    },
    {
      "cell_type": "code",
      "source": [
        "# bai 7\n",
        "n = int(input(\"Nhập n (≥2): \"))\n",
        "p = 2\n",
        "while p * p <= n:\n",
        "    if n % p == 0:\n",
        "        n //= p\n",
        "    else:\n",
        "        p += 1\n",
        "print(n)"
      ],
      "metadata": {
        "id": "fBuw8fmEl3gq"
      },
      "execution_count": null,
      "outputs": []
    },
    {
      "cell_type": "code",
      "source": [
        "# bai 8\n",
        "def reverse(n):\n",
        "    return int(str(n)[::-1])\n",
        "\n",
        "\n",
        "n = int(input(\"Nhap so nguyen duong n: \"))\n",
        "steps = 0\n",
        "while str(n) != str(n)[::-1]:\n",
        "    n = n + reverse(n)\n",
        "    steps += 1\n",
        "print(\"So buoc:\", steps)\n",
        "print(\"So palindrome thu duoc:\", n)"
      ],
      "metadata": {
        "id": "IaZXetDPl3mm"
      },
      "execution_count": null,
      "outputs": []
    },
    {
      "cell_type": "code",
      "source": [
        "# bai 9\n",
        "import math\n",
        "\n",
        "n = int(input(\"Nhập so nguyen duong n: \"))\n",
        "found = False\n",
        "\n",
        "for i in range(1, int(math.sqrt(n)) + 1):\n",
        "    sq = i * i\n",
        "    s = str(sq)\n",
        "    if len(s) == len(set(s)):\n",
        "        print(sq, end=\" \")\n",
        "        found = True\n",
        "\n",
        "if not found:\n",
        "    print(\"no number\")"
      ],
      "metadata": {
        "id": "NCCQDZ6dl3pZ"
      },
      "execution_count": null,
      "outputs": []
    },
    {
      "cell_type": "code",
      "source": [
        "# bai 10\n",
        "def collatz_length(n):\n",
        "    count = 1\n",
        "    while n != 1:\n",
        "        if n % 2 == 0:\n",
        "            n //= 2\n",
        "        else:\n",
        "            n = 3 * n + 1\n",
        "        count += 1\n",
        "    return count\n",
        "\n",
        "n = int(input(\"Nhap so nguyen duong n: \"))\n",
        "\n",
        "max_len = 0\n",
        "x_with_max = 1\n",
        "\n",
        "for x in range(1, n + 1):\n",
        "    length = collatz_length(x)\n",
        "    if length > max_len:\n",
        "        max_len = length\n",
        "        x_with_max = x\n",
        "\n",
        "print(x_with_max, max_len)"
      ],
      "metadata": {
        "id": "jVweyKpzl3sA"
      },
      "execution_count": null,
      "outputs": []
    },
    {
      "cell_type": "code",
      "source": [
        "# bai 11\n",
        "n= int(input(\"nhap vao 1 so  nguyen dương<10^6: \"))\n",
        "if n >= 10**6:\n",
        "    print(\"khong thoa man de bai\")\n",
        "else:\n",
        "    count=0\n",
        "    for i in range(1,n+1):\n",
        "        if n % i == 0 and i % 2 ==0:\n",
        "            count +=1\n",
        "    print(\"so uoc cua n la: \",count)"
      ],
      "metadata": {
        "id": "Da9yLi4Wl3uq"
      },
      "execution_count": null,
      "outputs": []
    },
    {
      "cell_type": "code",
      "source": [
        "# bai 12\n",
        "x = float(input(\"Nhap so tien ban gui ban dau : \"))\n",
        "N = int(input(\"Nhap so thang gui : \"))\n",
        "tong_tien = x * (1 + 0.007) ** N\n",
        "tong_tien = int(tong_tien)\n",
        "print(tong_tien)"
      ],
      "metadata": {
        "id": "qBDu-2Chl3xJ"
      },
      "execution_count": null,
      "outputs": []
    },
    {
      "cell_type": "code",
      "source": [
        "# bai 13\n",
        "def ClosePairNumber(n):\n",
        "    tong=0\n",
        "    for i in range(1,n):\n",
        "        if n % i == 0 :\n",
        "            tong=tong+i\n",
        "    return tong\n",
        "\n",
        "x=int(input(\"nhap vao 1 so nguen duong: \"))\n",
        "y=int(input(\"nhap vao 1 so nguyen duong: \"))\n",
        "if ClosePairNumber(x) == y and ClosePairNumber(y) == x:\n",
        "    print(\"True\")\n",
        "else:\n",
        "    print(\"False\")"
      ],
      "metadata": {
        "id": "RvAf-7XDl3zy"
      },
      "execution_count": null,
      "outputs": []
    },
    {
      "cell_type": "code",
      "source": [
        "# bai 14\n",
        "import math\n",
        "\n",
        "n=int(input(\" nhap so nguyen duong thu nhat: \"))\n",
        "m=int(input(\" nhap so nguyen duong thu hai: \"))\n",
        "ucln=math.gcd(n,m)\n",
        "print(\"Uoc chung lon nhat của hai so la: \",ucln)"
      ],
      "metadata": {
        "id": "pc0qgY8pl317"
      },
      "execution_count": null,
      "outputs": []
    },
    {
      "cell_type": "code",
      "source": [
        "# bai 15\n",
        "def giai_phuong_trinh(n):\n",
        "    for i in range(n+1):\n",
        "        if i*2 + (n-i)*4 == b:\n",
        "            print(i,n-i)\n",
        "            return\n",
        "        else:\n",
        "            print(\"invalid\")\n",
        "            return\n",
        "    return\n",
        "\n",
        "\n",
        "a=int(input(\"so ga va cho: \"))\n",
        "b=int(input(\"so chan: \"))\n",
        "giai_phuong_trinh(a)\n"
      ],
      "metadata": {
        "id": "2ggZk5GLl34i"
      },
      "execution_count": null,
      "outputs": []
    },
    {
      "cell_type": "code",
      "source": [
        "# bai 16\n",
        "for i in range (100):\n",
        "    if i % 2 ==0 and i % 3==0:\n",
        "        print(i)"
      ],
      "metadata": {
        "id": "fpv4uNuBl37P"
      },
      "execution_count": null,
      "outputs": []
    },
    {
      "cell_type": "code",
      "source": [
        "# bai 17\n",
        "a= int(input(\"nhap vao so nguyen: \"))\n",
        "for i in range(1,11):\n",
        "    b=a*i\n",
        "    print(a,\"*\",i,\"=\",b)\n"
      ],
      "metadata": {
        "id": "Rl7bveg5l391"
      },
      "execution_count": null,
      "outputs": []
    },
    {
      "cell_type": "code",
      "source": [
        "# bai 18\n",
        "def uoc_chung(a,b):\n",
        "    if a <= b:\n",
        "        for i in range(1,b+1):\n",
        "            if a % i == 0 and b % i ==0:\n",
        "                print(i, end=\" \")\n",
        "        return\n",
        "    else:\n",
        "        for i in range(1,a+1):\n",
        "            if a % i == 0 and b % i == 0 :\n",
        "                print(i, end=\" \")\n",
        "        return\n",
        "    return\n",
        "\n",
        "a=int(input(\" nhap so nguyen duong thu nhat: \"))\n",
        "b=int(input(\"nhap so nguyen duong thu hai: \"))\n",
        "if a > 0 and b > 0:\n",
        "    uoc_chung(a,b)\n",
        "else:\n",
        "    print(\"khong thoa man de bai\")"
      ],
      "metadata": {
        "id": "7gMZYWEBl4Am"
      },
      "execution_count": null,
      "outputs": []
    },
    {
      "cell_type": "code",
      "source": [
        "# bai 19\n",
        "n=int(input(\"nhap vao 1 so nguyen dương <= 100: \"))\n",
        "if 0 < n <= 100:\n",
        "    for i in range(1,n+1):\n",
        "        if i % 2 == 0:\n",
        "            print(i,end=\" \")\n",
        "else:\n",
        "    print(\" khong thoa man de bai\")\n"
      ],
      "metadata": {
        "id": "_0a_aGH-l4DD"
      },
      "execution_count": null,
      "outputs": []
    },
    {
      "cell_type": "code",
      "source": [
        "# bai 20\n",
        "n = int(input(\"Nhập số nguyên dương n: \"))\n",
        "\n",
        "if n > 0 and (n & (n - 1)) == 0:\n",
        "    print(n, \"là số dạng 2^k\")\n",
        "else:\n",
        "    print(n, \"không phải là số dạng 2^k\")\n",
        ""
      ],
      "metadata": {
        "id": "Qo9_Mimml4GD"
      },
      "execution_count": null,
      "outputs": []
    },
    {
      "cell_type": "code",
      "source": [
        "# bai 21\n",
        "n=int(input(\"nhap vao so nguyen duong n: \"))\n",
        "if n <= 0:\n",
        "    print(\"khong thoa man de bai\")\n",
        "else:\n",
        "    n=str(n)\n",
        "    tong=0\n",
        "    for i in n:\n",
        "        tong=tong+int(i)\n",
        "    print(tong)"
      ],
      "metadata": {
        "id": "S5YL00scl4Iv"
      },
      "execution_count": null,
      "outputs": []
    },
    {
      "cell_type": "code",
      "source": [
        "# bai 22\n",
        "n=int(input(\"nhap vao so nguyen duong n: \"))\n",
        "if n <= 0:\n",
        "    print(\"khong thoa man de bai\")\n",
        "else:\n",
        "    n=str(n)\n",
        "    for i in n:\n",
        "        if int(i) % 2 == 0:\n",
        "            print(i, end=\" \")"
      ],
      "metadata": {
        "id": "_YGgcQDjl4L0"
      },
      "execution_count": null,
      "outputs": []
    },
    {
      "cell_type": "code",
      "source": [
        "# bai 23\n",
        "n = int(input(\"Nhap n: \"))\n",
        "k = 0\n",
        "S = 0\n",
        "\n",
        "while S + (k + 1) < n:\n",
        "    k += 1\n",
        "    S += k\n",
        "\n",
        "print(\"k =\", k)\n",
        "print(\"S(k) =\", S)"
      ],
      "metadata": {
        "id": "KqYlvaOMl4OW"
      },
      "execution_count": null,
      "outputs": []
    },
    {
      "cell_type": "code",
      "source": [
        "# bai 24\n",
        "A = float(input(\"Nhap A: \"))\n",
        "n = 0\n",
        "S = 0\n",
        "while S <= A:\n",
        "    n += 1\n",
        "    S += 1/n\n",
        "print(\"n nho nhat la =\" ,n)\n",
        "print(\"Tong S=\" ,S )"
      ],
      "metadata": {
        "id": "SzItJHjpl4Q-"
      },
      "execution_count": null,
      "outputs": []
    },
    {
      "cell_type": "code",
      "source": [
        "# bai 25\n",
        "numbers = []\n",
        "\n",
        "while True:\n",
        "    n = int(input(\"Nhap so nguyen (-1 đe dung): \"))\n",
        "    if n == -1:\n",
        "        break\n",
        "    numbers.append(n)\n",
        "if len(numbers) == 0:\n",
        "    print(\"Khong co so nao đuoc nhap.\")\n",
        "else:\n",
        "    print(\"So lon nhat la:\", max(numbers))\n",
        "    print(\"So nho nhat la:\", min(numbers))"
      ],
      "metadata": {
        "id": "r-jmS8YOl4Tl"
      },
      "execution_count": null,
      "outputs": []
    },
    {
      "cell_type": "code",
      "source": [
        "# bai 26\n",
        "A=int(input(\"nhap so nguyen duong: \"))\n",
        "f1, f2 = 1, 1\n",
        "while f2 <= A:\n",
        "    f1, f2 = f2, f1 + f2\n",
        "print(\"So Fibonacci lon nhat khong vuot qua\", A, \"là:\", f1)"
      ],
      "metadata": {
        "id": "T5eYDO_zl4WL"
      },
      "execution_count": null,
      "outputs": []
    },
    {
      "cell_type": "code",
      "source": [
        "# bai 27\n",
        "s = input(\"Nhap chuoi: \")\n",
        "n = 0\n",
        "for ch in s:\n",
        "    n += 1\n",
        "dem = 0\n",
        "in_word = False\n",
        "for i in range(n):\n",
        "    if s[i] != ' ' and not in_word:\n",
        "        dem += 1\n",
        "        in_word = True\n",
        "    elif s[i] == ' ':\n",
        "        in_word = False\n",
        "\n",
        "print(\"So tu trong chuoi:\", dem)"
      ],
      "metadata": {
        "id": "5IdZfYnll4Yx"
      },
      "execution_count": null,
      "outputs": []
    },
    {
      "cell_type": "code",
      "source": [
        "# bai 28\n",
        "s = input(\"Nhap chuoi: \")\n",
        "n = 0\n",
        "for _ in s:\n",
        "    n += 1\n",
        "i = 0\n",
        "while i < n and s[i] == ' ':\n",
        "    i += 1\n",
        "first_word = \"\"\n",
        "while i < n and s[i] != ' ':\n",
        "    first_word += s[i]\n",
        "    i += 1\n",
        "\n",
        "print(\"Tu dau tien trong chuoi:\", first_word)\n"
      ],
      "metadata": {
        "id": "ZwOHtQ7al4bu"
      },
      "execution_count": null,
      "outputs": []
    },
    {
      "cell_type": "code",
      "source": [
        "# bai 29\n",
        "s = input(\"Nhap 3 so nguyen, cách nhau bang dau phay: \")\n",
        "\n",
        "tong = 0\n",
        "so = \"\"\n",
        "\n",
        "for ch in s:\n",
        "    if ch == ',':\n",
        "        tong += int(so)\n",
        "        so = \"\"\n",
        "    elif ch != ' ':\n",
        "        so += ch\n",
        "if so != \"\":\n",
        "    tong += int(so)\n",
        "\n",
        "print(\"Tong:\", tong)"
      ],
      "metadata": {
        "id": "2KPAWXNToWVx"
      },
      "execution_count": null,
      "outputs": []
    },
    {
      "cell_type": "code",
      "source": [
        "# bai 30\n",
        "s=input(\"nhap vao mot chuoi: \")\n",
        "dem1=0\n",
        "dem2=0\n",
        "dem3=0\n",
        "for ch in s:\n",
        "    if 'A' <= ch <='Z':\n",
        "        dem1 += 1\n",
        "    if 'a' <= ch <= 'z':\n",
        "        dem2 += 1\n",
        "    if '0' <= ch <= '9':\n",
        "        dem3 += 1\n",
        "print(dem1, dem2, dem3)\n"
      ],
      "metadata": {
        "id": "AZphUPDkoWYn"
      },
      "execution_count": null,
      "outputs": []
    },
    {
      "cell_type": "code",
      "source": [
        "# bai 31\n",
        "n=input(\"nhap vao 1 chuoi: \")\n",
        "tong=0\n",
        "for ch in n:\n",
        "    if '0' <= ch <= '9':\n",
        "        tong += int(ch)\n",
        "print(tong)"
      ],
      "metadata": {
        "id": "BvTzyrfUoWcf"
      },
      "execution_count": null,
      "outputs": []
    },
    {
      "cell_type": "code",
      "source": [
        "# bai 32\n",
        "s = input(\"Nhap mat khau: \")\n",
        "\n",
        "co_hoa = False\n",
        "co_thuong = False\n",
        "co_so = False\n",
        "co_dac_biet = False\n",
        "\n",
        "for ch in s:\n",
        "    if 'A' <= ch <= 'Z':\n",
        "        co_hoa = True\n",
        "    elif 'a' <= ch <= 'z':\n",
        "        co_thuong = True\n",
        "    elif '0' <= ch <= '9':\n",
        "        co_so = True\n",
        "    else:\n",
        "        co_dac_biet = True\n",
        "\n",
        "if len(s) > 6 and co_hoa and co_thuong and co_so and co_dac_biet:\n",
        "    print(\"Mat khau manh \")\n",
        "else:\n",
        "    print(\"Mat khau yeu \")"
      ],
      "metadata": {
        "id": "-WUo7vJBoWey"
      },
      "execution_count": null,
      "outputs": []
    },
    {
      "cell_type": "code",
      "source": [
        "# bai 33\n",
        "n = int(input(\"Nhap so: \"))\n",
        "\n",
        "s = str(n)\n",
        "ket_qua = \"\"\n",
        "dem = 0\n",
        "for ch in s[::-1]:\n",
        "    ket_qua = ch + ket_qua\n",
        "    dem += 1\n",
        "    if dem == 3 and ch != s[0]:\n",
        "        ket_qua = \".\" + ket_qua\n",
        "        dem = 0\n",
        "print(ket_qua)"
      ],
      "metadata": {
        "id": "57prTcTMoWhP"
      },
      "execution_count": null,
      "outputs": []
    },
    {
      "cell_type": "code",
      "source": [
        "# bai 34\n",
        "a = input(\"Nhap chuoi a: \")\n",
        "b = input(\"Nhap chuoi b: \")\n",
        "\n",
        "n = len(a)\n",
        "m = len(b)\n",
        "ket_qua = \"\"\n",
        "i = 0\n",
        "while i < n:\n",
        "    if a[i:i + m] == b:\n",
        "        i += m\n",
        "    else:\n",
        "        ket_qua += a[i]\n",
        "        i += 1\n",
        "print(\"Sau khi xoa ,chuoi a:\", ket_qua)"
      ],
      "metadata": {
        "id": "Oos1AX97oWj2"
      },
      "execution_count": null,
      "outputs": []
    }
  ]
}