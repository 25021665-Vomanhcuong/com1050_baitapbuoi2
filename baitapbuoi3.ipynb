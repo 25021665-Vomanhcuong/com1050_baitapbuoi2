{
  "nbformat": 4,
  "nbformat_minor": 0,
  "metadata": {
    "colab": {
      "provenance": []
    },
    "kernelspec": {
      "name": "python3",
      "display_name": "Python 3"
    },
    "language_info": {
      "name": "python"
    }
  },
  "cells": [
    {
      "cell_type": "code",
      "execution_count": 1,
      "metadata": {
        "colab": {
          "base_uri": "https://localhost:8080/"
        },
        "id": "qJwqdW2dlPDW",
        "outputId": "4a28664c-7cd2-4fe7-d6b9-6d0e373f4036"
      },
      "outputs": [
        {
          "output_type": "stream",
          "name": "stdout",
          "text": [
            "nhap vao mot so nguyen: 324\n",
            "so dao nguoc la:  423\n"
          ]
        }
      ],
      "source": [
        "# bai 1\n",
        "n=int(input(\"nhap vao mot so nguyen: \"))\n",
        "d=str(abs(n))[::-1]\n",
        "if n<0:\n",
        "    d=\"-\" + d\n",
        "print(\"so dao nguoc la: \",d)"
      ]
    },
    {
      "cell_type": "code",
      "source": [
        "# bai 2\n",
        "a,b=2,3\n",
        "a=a^b\n",
        "b=a^b\n",
        "a=a^b\n",
        "print(a,b)\n"
      ],
      "metadata": {
        "id": "sP8w1zBLljL2"
      },
      "execution_count": null,
      "outputs": []
    },
    {
      "cell_type": "code",
      "source": [
        "# bai 3\n",
        "def luy_thua_cua_hai(n):\n",
        "    return n > 0 and (n & (n - 1)) == 0\n",
        "\n",
        "for i in [2,3,4,6,9,16,20,8]:\n",
        "    print(luy_thua_cua_hai(i))"
      ],
      "metadata": {
        "id": "qviLSWwoloqG"
      },
      "execution_count": null,
      "outputs": []
    },
    {
      "cell_type": "code",
      "source": [
        "# bai 4\n",
        "m=float(input(\"nhap so thu nhat: \"))\n",
        "n=float(input(\"nhap so thu hai: \"))\n",
        "t=m//n\n",
        "print(\"ket qua: \",t)"
      ],
      "metadata": {
        "id": "Dljazsqfl8Ws"
      },
      "execution_count": null,
      "outputs": []
    },
    {
      "cell_type": "code",
      "source": [
        "# bai 5\n",
        "m=int(input(\"nhap so thu nhat: \"))\n",
        "n=int(input(\"nhap so thu hai: \"))\n",
        "t=m//n+1\n",
        "print(\"ket qua: \",t)"
      ],
      "metadata": {
        "id": "oYjWDL0YmEYI"
      },
      "execution_count": null,
      "outputs": []
    },
    {
      "cell_type": "code",
      "source": [
        "# bai 6\n",
        "x=int(input(\"nhap vao mot so nguyen duong: \"))\n",
        "if x % 2 == 0:\n",
        "    print(\"Even\")\n",
        "else:\n",
        "    print(\"Odd\")"
      ],
      "metadata": {
        "id": "Kv6LNyGUmKc4"
      },
      "execution_count": null,
      "outputs": []
    },
    {
      "cell_type": "code",
      "source": [
        "# bai 7\n",
        "m,n=map(int,input(\"nhap hai so nguyen m va n: \").split())\n",
        "if m < 0 and n < 0:\n",
        "    print('Yes')\n",
        "else:\n",
        "    print('No')"
      ],
      "metadata": {
        "id": "TR3KdsJ4mOo4"
      },
      "execution_count": null,
      "outputs": []
    },
    {
      "cell_type": "code",
      "source": [
        "# bai 8\n",
        "a=input(\"nhap vao chuoi chu cai thuong: \")\n",
        "b=input(\"nhap vao chuoi chu cai thuong: \")\n",
        "if len(a) > len(b):\n",
        "    print(\"True\")\n",
        "else:\n",
        "    print(\"Fale\")"
      ],
      "metadata": {
        "id": "aup8Bn3LmS3D"
      },
      "execution_count": null,
      "outputs": []
    },
    {
      "cell_type": "code",
      "source": [
        "# bai 9\n",
        "a,b,c=map(int,input(\"nhap ba so nguyen duong: \").split())\n",
        "if a + b >c and a + c > b and b + c > a:\n",
        "    print(\"Yes\")\n",
        "elif (a**2 + b**2 )==(c**2) or (a**2 +c**2) ==(b**2) or (b**2 + c**2) ==(a**2):\n",
        "    print(\"Yes\")\n",
        "else:\n",
        "    print(\"No\")"
      ],
      "metadata": {
        "colab": {
          "base_uri": "https://localhost:8080/"
        },
        "id": "TZZK-l3GmYKa",
        "outputId": "71b76b93-88d5-462e-e71d-ada62f0a0fb9"
      },
      "execution_count": 2,
      "outputs": [
        {
          "output_type": "stream",
          "name": "stdout",
          "text": [
            "nhap ba so nguyen duong: 3 4 5\n",
            "Yes\n"
          ]
        }
      ]
    }
  ]
}